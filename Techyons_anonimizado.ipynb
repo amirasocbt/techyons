{
 "cells": [
  {
   "cell_type": "code",
   "execution_count": 1,
   "id": "73576cf2-61d4-487d-8f49-e3807b6e6e07",
   "metadata": {},
   "outputs": [],
   "source": [
    "from sentence_transformers import SentenceTransformer\n",
    "from lenses import lens\n",
    "\n",
    "import torch\n",
    "\n",
    "import rdflib\n",
    "\n",
    "cos = torch.nn.CosineSimilarity()\n",
    "\n",
    "import numpy as np\n",
    "from numpy import dot\n",
    "from numpy.linalg import norm\n",
    "\n",
    "def cos_sim(a, b, field=\"subject\"):\n",
    "    embeddings = model.encode([a[field],\n",
    "                               b[field]])\n",
    "    return dot(embeddings[0], embeddings[1])/(norm(embeddings[0])*norm(embeddings[1]))"
   ]
  },
  {
   "cell_type": "markdown",
   "id": "53114568-df64-4765-bcf4-f46c55dd047e",
   "metadata": {
    "tags": []
   },
   "source": [
    "# Modelado de datos"
   ]
  },
  {
   "cell_type": "markdown",
   "id": "201910bc-2865-4f26-8076-f286cc7f3961",
   "metadata": {
    "tags": []
   },
   "source": [
    "### La información de Confluence debiera extraerse via API.\n",
    "\n",
    "El siguiente código sólo cumple una función de ejemplo de cómo se estructura un documento de confluence\n",
    "\n",
    "El html es material confidencial, asi que no se adjunta."
   ]
  },
  {
   "cell_type": "code",
   "execution_count": 2,
   "id": "6a060864-f2c1-4c43-bad3-e40c8737518b",
   "metadata": {},
   "outputs": [],
   "source": [
    "from bs4 import BeautifulSoup\n",
    "\n",
    "listfiles = [\"PPM100110310 - 1. DR Requerimientos - Convenios productos activo - Confluence.html\"]\n",
    "\n",
    "with open(listfiles[0], encoding=\"utf8\") as f:\n",
    "    soup = BeautifulSoup(f, 'html.parser')"
   ]
  },
  {
   "cell_type": "code",
   "execution_count": 3,
   "id": "145ecbda-1c8c-4583-8e14-0be1acb8ba29",
   "metadata": {},
   "outputs": [],
   "source": [
    "document = {}\n",
    "\n",
    "for title in soup.find_all(['h1', 'h2', 'h3', 'h4', 'h5', 'h6']):\n",
    "\n",
    "    title_text = title.get_text()\n",
    "    \n",
    "    content = \"\"\n",
    "    next_item = title.find_next_sibling()\n",
    "    \n",
    "    while next_item and next_item.name not in ['h1', 'h2', 'h3', 'h4', 'h5', 'h6']:\n",
    "        content += next_item.get_text() + ' '\n",
    "        next_item = next_item.find_next_sibling()\n",
    "\n",
    "    document[title_text] = content.strip()"
   ]
  },
  {
   "cell_type": "code",
   "execution_count": 4,
   "id": "56158370-cc20-4d47-8213-d11ad6c84981",
   "metadata": {},
   "outputs": [
    {
     "data": {
      "text/plain": [
       "dict_keys(['Accesos directos de espacio', 'Árbol de páginas', '\\nPPM100110310 - 1. DR Requerimientos\\n', 'Introducción', 'Versiones documento', 'Objetivo del documento', 'Contexto', 'Alcance y objetivos del proyecto', 'Intervinientes', 'Inventario de requerimientos', 'Detalle y Descripción de Requerimientos\\xa0', '\\xa0', 'Fuera de Alcance', 'Información Adicional', 'Planificación', 'Tareas'])"
      ]
     },
     "execution_count": 4,
     "metadata": {},
     "output_type": "execute_result"
    }
   ],
   "source": [
    "document.keys()"
   ]
  },
  {
   "cell_type": "markdown",
   "id": "6a768439-8424-4178-9a05-4a79fab904c5",
   "metadata": {
    "tags": []
   },
   "source": [
    "### Ejemplo json\n",
    "\n",
    "Las páginas de confluence debieran parsearse con el fin de obtener un objeto json almacenable en BBDD"
   ]
  },
  {
   "cell_type": "code",
   "execution_count": 5,
   "id": "2c25070e-400e-4904-ab45-d998809dd5ab",
   "metadata": {},
   "outputs": [],
   "source": [
    "projects = {\"encuestas_a_empleados\": {\"subject\": \"En un lugar de la Mancha, de cuyo nombre no quiero acordarme, no ha mucho tiempo que vivía un hidalgo de los de lanza en astillero, adarga antigua, rocín flaco y galgo corredor. Una olla de algo más vaca que carnero, salpicón las más noches, duelos y quebrantos los sábados, lantejas los viernes, algún palomino de añadidura los domingos, consumían las tres partes de su hacienda.\",\n",
    "                                        \"url\": \"...\"},\n",
    "             \"Nuevo_acuerdo_FEI_INVESTEU\": {\"subject\": \"Ineluctable modality of the visible: at least that if no more, thought through my eyes. Signatures of all things I am here to read, seaspawn and seawrack, the nearing tide, that rusty boot. Snotgreen, bluesilver, rust: coloured signs. Limits of the diaphane. But he adds: in bodies. Then he was aware of them bodies before of them coloured. How? By knocking his sconce against them, sure. Go easy. Bald he was and a millionaire, maestro di color che sanno. Limit of the diaphane in. Why in? Diaphane, adiaphane. If you can put your five fingers through it it is a gate, if not a door. Shut your eyes and see.\",\n",
    "                                           \"url\": \"...\"},\n",
    "             \"FEI_InvestEU_Sostenibilidad\": {\"subject\": \"It was the best of times, it was the worst of times, it was the age of wisdom, it was the age of foolishness, it was the epoch of belief, it was the epoch of incredulity, it was the season of Light, it was the season of Darkness, it was the spring of hope, it was the winter of despair, we had everything before us, we had nothing before us, we were all going direct to Heaven, we were all going direct the other way—in short, the period was so far like the present period, that some of its noisiest authorities insisted on its being received, for good or for evil, in the superlative degree of comparison only.\",\n",
    "                                            \"url\": \"...\"},\n",
    "             \"FEI_InvestEU_Innovfin\": {\"subject\": \"Pues sepa V.M. ante todas cosas que a mí llaman Lázaro de Tormes, hijo de Tomé González y de Antona Pérez, naturales de Tejares, aldea de Salamanca. Mi nacimiento fue dentro del río Tormes, por la cual causa tomé el sobrenombre, y fue desta manera. Mi padre, que Dios perdone, tenía cargo de proveer una molienda de una aceña, que está ribera de aquel río, en la cual fue molinero más de quince años; y estando mi madre una noche en la aceña, preñada de mí, tomóle el parto y parióme allí: de manera que con verdad puedo decir nacido en el río.\",\n",
    "                                       \"url\": \"...\"}\n",
    "           }"
   ]
  },
  {
   "cell_type": "markdown",
   "id": "fd3cb25a-7aa8-4255-86b4-4c4f6c868f9a",
   "metadata": {
    "tags": []
   },
   "source": [
    "# Red semántica\n",
    "\n",
    "Los csv de ejemplo son material confidencial. No se adjuntan.\n",
    "\n",
    "EL almacenamiento elegido es Neo4J."
   ]
  },
  {
   "cell_type": "code",
   "execution_count": 6,
   "id": "5d0561ee-330a-4131-b2aa-5b24d81a6689",
   "metadata": {},
   "outputs": [],
   "source": [
    "import pandas as pd\n",
    "\n",
    "df = pd.read_csv(\"Maestro PGS - Backlog - Servicios IT2.csv\", sep=';')\n",
    "\n",
    "df.dropna(axis=0, how='all', inplace=True)\n",
    "\n",
    "def get_index(columns, col_name):\n",
    "    return list(columns).index(col_name) + 1\n",
    "\n",
    "from functools import partial\n",
    "gip = partial(get_index, df.columns)\n",
    "\n",
    "dicto_MaestroPGS = {}\n",
    "\n",
    "for row in df.itertuples():\n",
    "    dicto_MaestroPGS[row[gip('ID Servicio IT')]] = {'url': row[gip('Id Project Group')],\n",
    "                                                    'Responsable': row[gip('Resp. Servicio IT')],\n",
    "                                                     'Matricula_responsable': row[gip('Matricula\\xa0\\n(Resp. Servicio IT)')],\n",
    "                                                     'Grupo': row[gip('Grupo')],\n",
    "                                                     'Grupo_id': row[gip('ID Grupo')],\n",
    "                                                     'Grupo_responsable': row[gip('Resp. Grupo')],\n",
    "                                                     'Grupo_matricula_responsable': row[gip('Matricula\\xa0\\n(Resp. Grupo)')],\n",
    "                                                     'Plataforma': row[gip('Plataforma')],\n",
    "                                                     'Plataforma_ID': row[gip('ID Plataforma')],\n",
    "                                                     'Plataforma_responsable': row[gip('Resp. Plataforma')],\n",
    "                                                     'Plataforma_matricula_responsable': row[gip('Matricula\\n(Resp. Plataforma)')]\n",
    "                                                    }"
   ]
  },
  {
   "cell_type": "code",
   "execution_count": 7,
   "id": "68a826fb-8916-4ef2-9389-b122078c5463",
   "metadata": {
    "tags": []
   },
   "outputs": [],
   "source": [
    "df = pd.read_csv(\"Relacion_PGS_PPM.csv\", sep=';')\n",
    "df.dropna(axis=0, how='all', inplace=True)\n",
    "\n",
    "gip = partial(get_index, df.columns)\n",
    "\n",
    "dicto_Relacion_PGS_PGS = {}\n",
    "\n",
    "for row in df.itertuples():\n",
    "    dicto_Relacion_PGS_PGS[row[gip('ID del proyecto')]] = {'url': row[gip('Link')],\n",
    "                                                    'Tipologia': row[gip('Tipo')],\n",
    "                                                    'Nombre_del_proyecto': row[gip('Nombre del proyecto')],\n",
    "                                                    'Estado': row[gip('Estado')],\n",
    "                                                    'Peticionario': row[gip('Peticionario (usuario)')],\n",
    "                                                    'Peticionario_Grupo': row[gip('Grupo peticionario')],\n",
    "                                                    'Gestor': row[gip('Gestor')],\n",
    "                                                    'Gestor_Grupo': row[gip('Grupo gestor')],\n",
    "                                                    'Ejercicio': None if np.isnan(row[gip('Ejercicio')]) else int(row[gip('Ejercicio')]),\n",
    "                                                    'Plataforma_gestora': row[gip('Plataforma gestora')]}"
   ]
  },
  {
   "cell_type": "code",
   "execution_count": 8,
   "id": "735b5c71-0995-4b3f-9e28-cc61be3be0cd",
   "metadata": {},
   "outputs": [],
   "source": [
    "from rdflib import Graph, Namespace, URIRef, Literal\n",
    "from rdflib.namespace import RDF\n",
    "from rdflib.plugins.sparql import prepareQuery\n",
    "\n",
    "class RDF_graph:\n",
    "    def __init__(self):\n",
    "        self.FOAF = Namespace(\"http://xmlns.com/foaf/0.1/\")\n",
    "        self.ORG = Namespace(\"http://example.org/organization#\")\n",
    "        self.PROJECT = Namespace(\"http://example.org/project#\")\n",
    "        \n",
    "        self.g = Graph()\n",
    "        \n",
    "    def add_node_rdf(self, identifier, **kwargs):\n",
    "        identifier = URIRef(f\"http://example.org/service#{identifier}\")\n",
    "        url = URIRef(kwargs['url'])\n",
    "        Responsable = Literal(kwargs['Responsable'])\n",
    "        Matricula_responsable =  f\"https://pplnow.colabora.lacaixa.es/SitePages/Profile.aspx?IdUser={kwargs['Matricula_responsable']}\"\n",
    "        Grupo_id = Literal(kwargs['Grupo_id'])\n",
    "        caixa = URIRef(\"http://example.org/organization/caixa\")\n",
    "        chatbot = URIRef(\"http://example.org/project/chatbot\")\n",
    "        migracion_cloud = URIRef(\"http://example.org/project/migracion-cloud\")\n",
    "\n",
    "        \n",
    "        self.g.add((Responsable, RDF.type, self.FOAF.Person))\n",
    "        self.g.add((Responsable, self.ORG.isResponsibleFor, identifier))\n",
    "        self.g.add((identifier, self.ORG.belongsTo, caixa))\n",
    "        self.g.add((identifier, self.ORG.hasLeader, Responsable))\n",
    "        self.g.add((identifier, self.ORG.isRelatedTo, chatbot))\n",
    "        self.g.add((identifier, self.ORG.dependsOn, migracion_cloud))\n",
    "        self.g.add((identifier, self.ORG.relationshipStrength, Literal(\"50%\")))\n",
    "    \n",
    "    def query(self, query):\n",
    "        results = self.g.query(query)\n",
    "        \n",
    "        return results\n",
    "    \n",
    "    def export_ttl(self, filepath):\n",
    "        ontology_ttl = self.g.serialize(format='turtle')\n",
    "\n",
    "        with open(filepath, \"w\") as f:\n",
    "            f.write(ontology_ttl)\n",
    "        "
   ]
  },
  {
   "cell_type": "code",
   "execution_count": 9,
   "id": "0c26d857-c040-4a1c-b859-d3a58e67c9e4",
   "metadata": {},
   "outputs": [],
   "source": [
    "dicto_MaestroPGS['llm'] = {'url': \"http://example.org/project#llm\",\n",
    "  'Responsable': 'Smithee, Alan',\n",
    "  'Matricula_responsable': '666',\n",
    "  'Grupo': 'IA',\n",
    "  'Grupo_id': 'GBGR00269',\n",
    "  'Grupo_responsable': 'Bourbaki, Nicolas',\n",
    "  'Grupo_matricula_responsable': '777',\n",
    "  'Plataforma': 'Products, Clients & Accounts',\n",
    "  'Plataforma_ID': 'GBPL00045',\n",
    "  'Plataforma_responsable': 'Eco, Umberto',\n",
    "  'Plataforma_matricula_responsable': '888'}"
   ]
  },
  {
   "cell_type": "code",
   "execution_count": 10,
   "id": "a8a5e721-e5b9-425e-99f9-c88bbf30006d",
   "metadata": {},
   "outputs": [],
   "source": [
    "g = RDF_graph()\n",
    "\n",
    "g.add_node_rdf(identifier='llm', **dicto_MaestroPGS['llm'])"
   ]
  },
  {
   "cell_type": "code",
   "execution_count": 11,
   "id": "b00a521b-042e-487b-ae80-d4e43609e789",
   "metadata": {},
   "outputs": [
    {
     "name": "stdout",
     "output_type": "stream",
     "text": [
      "@prefix foaf: <http://xmlns.com/foaf/0.1/> .\n",
      "@prefix ns1: <http://example.org/organization#> .\n",
      "\n",
      "<http://example.org/service#llm> ns1:belongsTo <http://example.org/organization/caixa> ;\n",
      "    ns1:dependsOn <http://example.org/project/migracion-cloud> ;\n",
      "    ns1:hasLeader \"Smithee, Alan\" ;\n",
      "    ns1:isRelatedTo <http://example.org/project/chatbot> ;\n",
      "    ns1:relationshipStrength \"50%\" .\n",
      "\n",
      "\"Smithee, Alan\" a foaf:Person ;\n",
      "    ns1:isResponsibleFor <http://example.org/service#llm> .\n",
      "\n",
      "\n"
     ]
    }
   ],
   "source": [
    "print(g.g.serialize())"
   ]
  },
  {
   "cell_type": "code",
   "execution_count": 12,
   "id": "067c6bc4-e0f9-439c-ac94-ab9c2fdd9580",
   "metadata": {},
   "outputs": [],
   "source": [
    "query = prepareQuery(\n",
    "    \"\"\"\n",
    "    PREFIX ns1: <http://example.org/organization#>\n",
    "    PREFIX service: <http://example.org/service#>\n",
    "\n",
    "    SELECT ?dependency\n",
    "    WHERE {\n",
    "        service:llm ns1:dependsOn ?dependency.\n",
    "    }\n",
    "    \"\"\"\n",
    ")\n",
    "\n",
    "results = g.query(query)"
   ]
  },
  {
   "cell_type": "code",
   "execution_count": 13,
   "id": "900f09b2-bffe-43c7-b539-2f19a9ff9657",
   "metadata": {},
   "outputs": [
    {
     "data": {
      "text/plain": [
       "[(rdflib.term.URIRef('http://example.org/project/migracion-cloud'),)]"
      ]
     },
     "execution_count": 13,
     "metadata": {},
     "output_type": "execute_result"
    }
   ],
   "source": [
    "[row for row in results]"
   ]
  },
  {
   "cell_type": "markdown",
   "id": "159f3341-906c-4a07-84f6-74dcc13c89f3",
   "metadata": {
    "tags": []
   },
   "source": [
    "# Vector similarity search\n",
    "\n",
    "Sirva este adendo de ejemplo de cómo funcionaría la búsqueda semántica, no obstante se usaría Weviate."
   ]
  },
  {
   "cell_type": "code",
   "execution_count": 14,
   "id": "ae3768b4-f818-4d43-8184-5d69d7083c88",
   "metadata": {},
   "outputs": [],
   "source": [
    "model = SentenceTransformer('hiiamsid/sentence_similarity_spanish_es')"
   ]
  },
  {
   "cell_type": "code",
   "execution_count": 15,
   "id": "b1fd5856-c0dd-44e9-bdea-735d81f1f8d7",
   "metadata": {},
   "outputs": [
    {
     "data": {
      "text/plain": [
       "0.30116013"
      ]
     },
     "execution_count": 15,
     "metadata": {},
     "output_type": "execute_result"
    }
   ],
   "source": [
    "cos_sim(projects[\"encuestas_a_empleados\"], projects[\"Nuevo_acuerdo_FEI_INVESTEU\"])"
   ]
  },
  {
   "cell_type": "code",
   "execution_count": 16,
   "id": "42596157-69b6-405b-a682-5d67546cd632",
   "metadata": {},
   "outputs": [
    {
     "data": {
      "text/plain": [
       "0.13825643"
      ]
     },
     "execution_count": 16,
     "metadata": {},
     "output_type": "execute_result"
    }
   ],
   "source": [
    "cos_sim(projects[\"FEI_InvestEU_Sostenibilidad\"], projects[\"FEI_InvestEU_Innovfin\"])"
   ]
  },
  {
   "cell_type": "code",
   "execution_count": 17,
   "id": "1e3feb2e-2e03-4c51-9f81-e50fcaf4106e",
   "metadata": {},
   "outputs": [
    {
     "data": {
      "text/plain": [
       "0.65123504"
      ]
     },
     "execution_count": 17,
     "metadata": {},
     "output_type": "execute_result"
    }
   ],
   "source": [
    "cos_sim(projects[\"encuestas_a_empleados\"], projects[\"FEI_InvestEU_Innovfin\"])"
   ]
  },
  {
   "cell_type": "code",
   "execution_count": null,
   "id": "98212f19-1699-47c7-81b6-b763d2b830e6",
   "metadata": {},
   "outputs": [],
   "source": []
  }
 ],
 "metadata": {
  "kernelspec": {
   "display_name": "LLM (Local)",
   "language": "python",
   "name": "local-llm"
  },
  "language_info": {
   "codemirror_mode": {
    "name": "ipython",
    "version": 3
   },
   "file_extension": ".py",
   "mimetype": "text/x-python",
   "name": "python",
   "nbconvert_exporter": "python",
   "pygments_lexer": "ipython3",
   "version": "3.11.6"
  }
 },
 "nbformat": 4,
 "nbformat_minor": 5
}
